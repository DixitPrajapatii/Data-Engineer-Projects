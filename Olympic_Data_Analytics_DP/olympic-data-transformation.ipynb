{
 "cells": [
  {
   "cell_type": "markdown",
   "metadata": {},
   "source": [
    "### Olympic data transformation using spark\n",
    "* Author : Dixit Prajapati\n",
    "* Date : August 2024\n",
    "\n",
    "### Introduction\n",
    "This notebook demonstrates the process of transforming Olympic data using Apache Spark. The dataset includes various metrics related to Olympic athletes and their performances across different events. The transformations aim to prepare the data for further analysis.\n"
   ]
  },
  {
   "cell_type": "code",
   "execution_count": null,
   "metadata": {
    "application/vnd.databricks.v1+cell": {
     "cellMetadata": {
      "byteLimit": 2048000,
      "rowLimit": 10000
     },
     "inputWidgets": {},
     "nuid": "85c9b050-bf89-4b4c-bf79-25c85b55f064",
     "showTitle": false,
     "title": ""
    }
   },
   "outputs": [],
   "source": [
    "# Configuring and mounting an Azure Data Lake Storage (ADLS) container to a Databricks filesystem (DBFS) using OAuth authentication\n",
    "\n",
    "configs = {\"fs.azure.account.auth.type\": \"OAuth\",\n",
    "\"fs.azure.account.oauth.provider.type\": \"org.apache.hadoop.fs.azurebfs.oauth2.ClientCredsTokenProvider\",\n",
    "\"fs.azure.account.oauth2.client.id\": \"\", # Update client ID \n",
    "\"fs.azure.account.oauth2.client.secret\": \"\", # Update secret key\n",
    "\"fs.azure.account.oauth2.client.endpoint\": \"https://login.microsoftonline.com/tenant_Id_Update/oauth2/token\"} # Update tenant_Id\n",
    "\n",
    "\n",
    "dbutils.fs.mount(\n",
    "source = \"abfss://container@storageaccountname.dfs.core.windows.net\", # contrainer@storageacc\n",
    "mount_point = \"/mnt/olympicc\",\n",
    "extra_configs = configs)\n",
    "  "
   ]
  },
  {
   "cell_type": "code",
   "execution_count": null,
   "metadata": {
    "application/vnd.databricks.v1+cell": {
     "cellMetadata": {
      "byteLimit": 2048000,
      "rowLimit": 10000
     },
     "inputWidgets": {},
     "nuid": "bf615574-fc41-4594-b4e9-bae070d753e0",
     "showTitle": false,
     "title": ""
    }
   },
   "outputs": [],
   "source": [
    "# Importing function and datatypes from pyspark.\n",
    "\n",
    "from pyspark.sql.functions import col\n",
    "from pyspark.sql.types import IntegerType, DoubleType, BooleanType, DateType"
   ]
  },
  {
   "cell_type": "code",
   "execution_count": null,
   "metadata": {
    "application/vnd.databricks.v1+cell": {
     "cellMetadata": {
      "byteLimit": 2048000,
      "rowLimit": 10000
     },
     "inputWidgets": {},
     "nuid": "57152af2-1a3d-44cb-ab48-581b7c0c8215",
     "showTitle": false,
     "title": ""
    }
   },
   "outputs": [],
   "source": [
    "# Using Databricks' magic command %fs to interact with the Databricks File System (DBFS)\n",
    "\n",
    "%fs\n",
    "ls \"/mnt/olympicc\""
   ]
  },
  {
   "cell_type": "code",
   "execution_count": null,
   "metadata": {
    "application/vnd.databricks.v1+cell": {
     "cellMetadata": {
      "byteLimit": 2048000,
      "rowLimit": 10000
     },
     "inputWidgets": {},
     "nuid": "6ad775d8-7388-4fc1-82e3-acd488dc9a43",
     "showTitle": false,
     "title": ""
    }
   },
   "outputs": [],
   "source": [
    "spark"
   ]
  },
  {
   "cell_type": "code",
   "execution_count": null,
   "metadata": {
    "application/vnd.databricks.v1+cell": {
     "cellMetadata": {
      "byteLimit": 2048000,
      "rowLimit": 10000
     },
     "inputWidgets": {},
     "nuid": "0d07df7a-93ce-4a27-b01b-0c4c0f5974ef",
     "showTitle": false,
     "title": ""
    }
   },
   "outputs": [],
   "source": [
    "%fs\n",
    "ls \"dbfs:/mnt/olympicc/raw-data/\""
   ]
  },
  {
   "cell_type": "code",
   "execution_count": null,
   "metadata": {
    "application/vnd.databricks.v1+cell": {
     "cellMetadata": {
      "byteLimit": 2048000,
      "rowLimit": 10000
     },
     "inputWidgets": {},
     "nuid": "6d92e5eb-159e-48b9-8275-b1242e77f19a",
     "showTitle": false,
     "title": ""
    }
   },
   "outputs": [],
   "source": [
    "# Load the medals data from a CSV file into a Spark DataFrame\n",
    "\n",
    "athletes = spark.read.csv(\"/mnt/olympicc/raw-data/athletes.csv\", header=True, inferSchema=True)\n",
    "coaches = spark.read.csv(\"/mnt/olympicc/raw-data/coaches.csv\", header=True, inferSchema=True)\n",
    "entriesgender = spark.read.csv(\"/mnt/olympicc/raw-data/entriesgender.csv\", header=True, inferSchema=True)\n",
    "medals = spark.read.csv(\"/mnt/olympicc/raw-data/medals.csv\", header=True, inferSchema=True)\n",
    "teams = spark.read.csv(\"/mnt/olympicc/raw-data/teams.csv\", header=True, inferSchema=True)"
   ]
  },
  {
   "cell_type": "code",
   "execution_count": null,
   "metadata": {
    "application/vnd.databricks.v1+cell": {
     "cellMetadata": {
      "byteLimit": 2048000,
      "rowLimit": 10000
     },
     "inputWidgets": {},
     "nuid": "a359e220-e387-4b4b-97d6-8abe9cd31952",
     "showTitle": false,
     "title": ""
    }
   },
   "outputs": [],
   "source": [
    "# Show the first few rows of the athletes DataFrame\n",
    "athletes.show()"
   ]
  },
  {
   "cell_type": "code",
   "execution_count": null,
   "metadata": {
    "application/vnd.databricks.v1+cell": {
     "cellMetadata": {
      "byteLimit": 2048000,
      "rowLimit": 10000
     },
     "inputWidgets": {},
     "nuid": "33d26112-b9d6-48b8-9ef5-503bbbe22c54",
     "showTitle": false,
     "title": ""
    }
   },
   "outputs": [],
   "source": [
    "# Print the schema of the athletes DataFrame to understand its structure\n",
    "athletes.printSchema()"
   ]
  },
  {
   "cell_type": "code",
   "execution_count": null,
   "metadata": {
    "application/vnd.databricks.v1+cell": {
     "cellMetadata": {
      "byteLimit": 2048000,
      "rowLimit": 10000
     },
     "inputWidgets": {},
     "nuid": "1b3780b5-74ae-4e2c-8cdf-11a28a48fd5b",
     "showTitle": false,
     "title": ""
    }
   },
   "outputs": [],
   "source": [
    "coaches.show()"
   ]
  },
  {
   "cell_type": "code",
   "execution_count": null,
   "metadata": {
    "application/vnd.databricks.v1+cell": {
     "cellMetadata": {
      "byteLimit": 2048000,
      "rowLimit": 10000
     },
     "inputWidgets": {},
     "nuid": "3cdca8d0-35f8-4f41-a846-0b16b17cc292",
     "showTitle": false,
     "title": ""
    }
   },
   "outputs": [],
   "source": [
    "coaches.printSchema()"
   ]
  },
  {
   "cell_type": "code",
   "execution_count": null,
   "metadata": {
    "application/vnd.databricks.v1+cell": {
     "cellMetadata": {
      "byteLimit": 2048000,
      "rowLimit": 10000
     },
     "inputWidgets": {},
     "nuid": "138e9bf7-cfb9-4a3e-b664-91466ccf8736",
     "showTitle": false,
     "title": ""
    }
   },
   "outputs": [],
   "source": [
    "entriesgender.show()"
   ]
  },
  {
   "cell_type": "code",
   "execution_count": null,
   "metadata": {
    "application/vnd.databricks.v1+cell": {
     "cellMetadata": {
      "byteLimit": 2048000,
      "rowLimit": 10000
     },
     "inputWidgets": {},
     "nuid": "0215abcc-c5fd-4b5a-b8ef-57134c3d3cd7",
     "showTitle": false,
     "title": ""
    }
   },
   "outputs": [],
   "source": [
    "entriesgender.printSchema()"
   ]
  },
  {
   "cell_type": "code",
   "execution_count": null,
   "metadata": {
    "application/vnd.databricks.v1+cell": {
     "cellMetadata": {
      "byteLimit": 2048000,
      "rowLimit": 10000
     },
     "inputWidgets": {},
     "nuid": "544a9385-b3e5-4149-a285-979d85bf1447",
     "showTitle": false,
     "title": ""
    }
   },
   "outputs": [],
   "source": [
    "medals.show()"
   ]
  },
  {
   "cell_type": "code",
   "execution_count": null,
   "metadata": {
    "application/vnd.databricks.v1+cell": {
     "cellMetadata": {
      "byteLimit": 2048000,
      "rowLimit": 10000
     },
     "inputWidgets": {},
     "nuid": "804ea781-5cfc-4236-b861-0e572c3bc003",
     "showTitle": false,
     "title": ""
    }
   },
   "outputs": [],
   "source": [
    "medals.printSchema()"
   ]
  },
  {
   "cell_type": "code",
   "execution_count": null,
   "metadata": {
    "application/vnd.databricks.v1+cell": {
     "cellMetadata": {
      "byteLimit": 2048000,
      "rowLimit": 10000
     },
     "inputWidgets": {},
     "nuid": "fb459071-ca81-441d-bf74-3b025ef1bbb7",
     "showTitle": false,
     "title": ""
    }
   },
   "outputs": [],
   "source": [
    "teams.show()"
   ]
  },
  {
   "cell_type": "code",
   "execution_count": null,
   "metadata": {
    "application/vnd.databricks.v1+cell": {
     "cellMetadata": {
      "byteLimit": 2048000,
      "rowLimit": 10000
     },
     "inputWidgets": {},
     "nuid": "f9c2b56e-7fbe-417c-8c68-0205a565bb18",
     "showTitle": false,
     "title": ""
    }
   },
   "outputs": [],
   "source": [
    "teams.printSchema()"
   ]
  },
  {
   "cell_type": "code",
   "execution_count": null,
   "metadata": {
    "application/vnd.databricks.v1+cell": {
     "cellMetadata": {
      "byteLimit": 2048000,
      "rowLimit": 10000
     },
     "inputWidgets": {},
     "nuid": "aa24859b-7395-435b-a6e1-dbd38bad9c82",
     "showTitle": false,
     "title": ""
    }
   },
   "outputs": [],
   "source": [
    "# Find the top countries with the highest number of gold medals\n",
    "medals.show()"
   ]
  },
  {
   "cell_type": "code",
   "execution_count": null,
   "metadata": {
    "application/vnd.databricks.v1+cell": {
     "cellMetadata": {
      "byteLimit": 2048000,
      "rowLimit": 10000
     },
     "inputWidgets": {},
     "nuid": "4a1098c0-0dcd-4fa0-8bbc-e22685859ad5",
     "showTitle": false,
     "title": ""
    }
   },
   "outputs": [],
   "source": [
    "top_gold_medal_countries = medals.orderBy(\"Gold\", ascending=False).select(\"Team/NOC\",\"Gold\").show()"
   ]
  },
  {
   "cell_type": "code",
   "execution_count": null,
   "metadata": {
    "application/vnd.databricks.v1+cell": {
     "cellMetadata": {
      "byteLimit": 2048000,
      "rowLimit": 10000
     },
     "inputWidgets": {},
     "nuid": "6486e2ef-4a7a-40d5-b38e-8e72d42efd16",
     "showTitle": false,
     "title": ""
    }
   },
   "outputs": [],
   "source": [
    "# Calculate the average number of entries by gender for each discipline\n",
    "from pyspark.sql.functions import round\n",
    "average_entries_by_gender = entriesgender.withColumn('Avg_Female', entriesgender['Female'] / entriesgender['Total']).withColumn('Avg_Male',entriesgender['Male'] / entriesgender['Total']).withColumn('Avg_Female', round('Avg_Female',2)).withColumn('Avg_Male', round('Avg_Male',2))\n",
    "average_entries_by_gender.show() "
   ]
  },
  {
   "cell_type": "code",
   "execution_count": null,
   "metadata": {
    "application/vnd.databricks.v1+cell": {
     "cellMetadata": {
      "byteLimit": 2048000,
      "rowLimit": 10000
     },
     "inputWidgets": {},
     "nuid": "30ac2e54-8e1e-4f9c-a825-7e61d5c284dc",
     "showTitle": false,
     "title": ""
    }
   },
   "outputs": [],
   "source": [
    "# Created 2 partition for each file\n",
    "# athletes.repartition(2).write.mode('overwrite').option('header','true').csv('/mnt/olympicc/transformed-data/athletes')\n",
    "# coaches.repartition(2).write.mode('overwrite').option('header','true').csv('/mnt/olympicc/transformed-data/coaches')\n",
    "# entriesgender.repartition(2).write.mode('overwrite').option('header','true').csv('/mnt/olympicc/transformed-data/entriesgender')\n",
    "# medals.repartition(2).write.mode('overwrite').option('header','true').csv('/mnt/olympicc/transformed-data/medals')\n",
    "# teams.repartition(2).write.mode('overwrite').option('header','true').csv('/mnt/olympicc/transformed-data/teams')"
   ]
  },
  {
   "cell_type": "code",
   "execution_count": null,
   "metadata": {
    "application/vnd.databricks.v1+cell": {
     "cellMetadata": {
      "byteLimit": 2048000,
      "rowLimit": 10000
     },
     "inputWidgets": {},
     "nuid": "6ac721d9-2e27-4d73-aa7f-e9c96dc5fe77",
     "showTitle": false,
     "title": ""
    }
   },
   "outputs": [],
   "source": [
    "athletes.repartition(1).write.mode('overwrite').option('header','true').csv('/mnt/olympicc/transformed-data/athletes')\n",
    "coaches.repartition(1).write.mode('overwrite').option('header','true').csv('/mnt/olympicc/transformed-data/coaches')\n",
    "entriesgender.repartition(1).write.mode('overwrite').option('header','true').csv('/mnt/olympicc/transformed-data/entriesgender')\n",
    "medals.repartition(1).write.mode('overwrite').option('header','true').csv('/mnt/olympicc/transformed-data/medals')\n",
    "teams.repartition(1).write.mode('overwrite').option('header','true').csv('/mnt/olympicc/transformed-data/teams')"
   ]
  },
  {
   "cell_type": "code",
   "execution_count": null,
   "metadata": {
    "application/vnd.databricks.v1+cell": {
     "cellMetadata": {
      "byteLimit": 2048000,
      "rowLimit": 10000
     },
     "inputWidgets": {},
     "nuid": "93adc980-dd9b-4b64-899c-dbc90fbab061",
     "showTitle": false,
     "title": ""
    }
   },
   "outputs": [],
   "source": [
    "%fs\n",
    "ls \"/mnt/olympicc/transformed-data/\""
   ]
  },
  {
   "cell_type": "code",
   "execution_count": null,
   "metadata": {
    "application/vnd.databricks.v1+cell": {
     "cellMetadata": {
      "byteLimit": 2048000,
      "rowLimit": 10000
     },
     "inputWidgets": {},
     "nuid": "c6197c93-6e08-44f3-9b36-6bd9d17d836f",
     "showTitle": false,
     "title": ""
    }
   },
   "outputs": [],
   "source": [
    "%fs\n",
    "ls \"/mnt/olympicc/transformed-data/athletes/\""
   ]
  },
  {
   "cell_type": "code",
   "execution_count": null,
   "metadata": {
    "application/vnd.databricks.v1+cell": {
     "cellMetadata": {
      "byteLimit": 2048000,
      "rowLimit": 10000
     },
     "inputWidgets": {},
     "nuid": "94b9d9be-0453-43d4-aa8e-76963eed24fe",
     "showTitle": false,
     "title": ""
    }
   },
   "outputs": [],
   "source": [
    "# Load the athletes data from a CSV file into a Spark DataFrame\n",
    "\n",
    "athletes = spark.read.csv(\"/mnt/olympicc/transformed-data/athletes/part-00000-tid-8364754138149393228-d1a2f989-0312-4682-9bff-8d851edb0bb1-279-1-c000.csv\", header=True, inferSchema=True)\n",
    "athletes.show()\n"
   ]
  },
  {
   "cell_type": "markdown",
   "metadata": {
    "application/vnd.databricks.v1+cell": {
     "cellMetadata": {},
     "inputWidgets": {},
     "nuid": "6ad712f1-1e98-484e-8d00-19cd847a70a6",
     "showTitle": false,
     "title": ""
    }
   },
   "source": [
    "### Conclusion\n",
    "This notebook successfully demonstrated how to process and analyze Olympic data using Apache Spark. The transformed data provides valuable insights that can be used for further exploration or decision-making.\n"
   ]
  }
 ],
 "metadata": {
  "application/vnd.databricks.v1+notebook": {
   "dashboards": [],
   "environmentMetadata": null,
   "language": "python",
   "notebookMetadata": {
    "mostRecentlyExecutedCommandWithImplicitDF": {
     "commandId": 4296641051760621,
     "dataframes": [
      "_sqldf"
     ]
    },
    "pythonIndentUnit": 4
   },
   "notebookName": "Olympic-data-transformation",
   "widgets": {}
  },
  "language_info": {
   "name": "python"
  }
 },
 "nbformat": 4,
 "nbformat_minor": 0
}
